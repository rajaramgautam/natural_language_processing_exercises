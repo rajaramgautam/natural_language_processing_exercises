{
 "cells": [
  {
   "cell_type": "markdown",
   "id": "22fab4b3",
   "metadata": {},
   "source": [
    "# Exercises\n",
    "\n",
    "By the end of this exercise, you should have a file named acquire.py that contains the specified functions. If you wish, you may break your work into separate files for each website (e.g. acquire_codeup_blog.py and acquire_news_articles.py), but the end function should be present in acquire.py (that is, acquire.py should import get_blog_articles from the acquire_codeup_blog module.)\n",
    "\n",
    "1. Codeup Blog Articles\n",
    "\n",
    "Visit Codeup's Blog and record the urls for at least 5 distinct blog posts. For each post, you should scrape at least the post's title and content.\n",
    "\n",
    "Encapsulate your work in a function named get_blog_articles that will return a list of dictionaries, with each dictionary representing one article. The shape of each dictionary should look like this:"
   ]
  },
  {
   "cell_type": "code",
   "execution_count": 1,
   "id": "279daa50",
   "metadata": {},
   "outputs": [
    {
     "data": {
      "text/plain": [
       "{'title': 'the title of the article',\n",
       " 'content': 'the full text content of the article'}"
      ]
     },
     "execution_count": 1,
     "metadata": {},
     "output_type": "execute_result"
    }
   ],
   "source": [
    "{\n",
    "    'title': 'the title of the article',\n",
    "    'content': 'the full text content of the article'\n",
    "}\n"
   ]
  },
  {
   "cell_type": "code",
   "execution_count": 174,
   "id": "d3777842",
   "metadata": {},
   "outputs": [],
   "source": [
    "from requests import get\n",
    "import pandas as pd\n",
    "from bs4 import BeautifulSoup\n",
    "from time import strftime\n",
    "import requests"
   ]
  },
  {
   "cell_type": "code",
   "execution_count": 3,
   "id": "b5714ce6",
   "metadata": {},
   "outputs": [],
   "source": [
    "# assigining values to url\n",
    "url1 = 'https://codeup.com/codeup-news/codeup-start-dates-for-march-2022/'\n",
    "url2 = 'https://codeup.com/codeup-news/vet-tec-funding-dallas/'\n",
    "url3 = 'https://codeup.com/codeup-news/dallas-campus-re-opens-with-new-grant-partner/'\n",
    "url4 = 'https://codeup.com/dallas-newsletter/codeup-dallas-open-house/'\n",
    "url5 = 'https://codeup.com/codeup-news/codeups-placement-team-continues-setting-records/'"
   ]
  },
  {
   "cell_type": "code",
   "execution_count": 4,
   "id": "9c6ead6b",
   "metadata": {
    "scrolled": false
   },
   "outputs": [],
   "source": [
    "headers = {'User-Agent': 'Codeup Data Science'} # Some websites don't accept the pyhon-requests default user-agent\n",
    "response = get(url1, headers = headers) # getting url \n",
    "html = response.text # convertting to text\n",
    "# html"
   ]
  },
  {
   "cell_type": "code",
   "execution_count": 5,
   "id": "d4624a95",
   "metadata": {},
   "outputs": [],
   "source": [
    "# Make a soup variable holding the response content\n",
    "soup = BeautifulSoup(html)\n",
    "# soup"
   ]
  },
  {
   "cell_type": "code",
   "execution_count": 6,
   "id": "c98924bf",
   "metadata": {},
   "outputs": [
    {
     "data": {
      "text/plain": [
       "'Codeup Start Dates for March 2022'"
      ]
     },
     "execution_count": 6,
     "metadata": {},
     "output_type": "execute_result"
    }
   ],
   "source": [
    "title = soup.select('.et_post_meta_wrapper')[0].h1.text\n",
    "title"
   ]
  },
  {
   "cell_type": "code",
   "execution_count": 7,
   "id": "6c15b10e",
   "metadata": {},
   "outputs": [],
   "source": [
    "# title2 = soup.select('.entry-title')[0].text\n",
    "# title2"
   ]
  },
  {
   "cell_type": "code",
   "execution_count": 8,
   "id": "83447937",
   "metadata": {},
   "outputs": [],
   "source": [
    "# soup.h1"
   ]
  },
  {
   "cell_type": "code",
   "execution_count": 9,
   "id": "f6b6f102",
   "metadata": {},
   "outputs": [],
   "source": [
    "# soup.h1.text"
   ]
  },
  {
   "cell_type": "code",
   "execution_count": 10,
   "id": "7d41d2b0",
   "metadata": {},
   "outputs": [],
   "source": [
    "# title3 = soup.h1.text\n",
    "# title3"
   ]
  },
  {
   "cell_type": "code",
   "execution_count": 11,
   "id": "22bcf8b1",
   "metadata": {},
   "outputs": [],
   "source": [
    "# soup.select('.entry-content')"
   ]
  },
  {
   "cell_type": "code",
   "execution_count": 12,
   "id": "2330dff2",
   "metadata": {},
   "outputs": [],
   "source": [
    "content = soup.select('.entry-content')[0].text\n",
    "# content"
   ]
  },
  {
   "cell_type": "code",
   "execution_count": 13,
   "id": "5774fd9e",
   "metadata": {},
   "outputs": [],
   "source": [
    "content = content.replace('\\n', '')\n",
    "# content"
   ]
  },
  {
   "cell_type": "code",
   "execution_count": 14,
   "id": "22cef2db",
   "metadata": {},
   "outputs": [],
   "source": [
    "url1 = 'https://codeup.com/codeup-news/codeup-start-dates-for-march-2022/'\n",
    "url2 = 'https://codeup.com/codeup-news/vet-tec-funding-dallas/'\n",
    "url3 = 'https://codeup.com/codeup-news/dallas-campus-re-opens-with-new-grant-partner/'\n",
    "url4 = 'https://codeup.com/dallas-newsletter/codeup-dallas-open-house/'\n",
    "url5 = 'https://codeup.com/codeup-news/codeups-placement-team-continues-setting-records/'"
   ]
  },
  {
   "cell_type": "code",
   "execution_count": 15,
   "id": "4fff19e3",
   "metadata": {},
   "outputs": [],
   "source": [
    "# url listing\n",
    "url_list = [url1, url2, url3, url4, url5]"
   ]
  },
  {
   "cell_type": "code",
   "execution_count": 16,
   "id": "e604c62a",
   "metadata": {},
   "outputs": [],
   "source": [
    "def get_blog_article(url):\n",
    "    \n",
    "    ''' This function pass url and gic=ves title and content. '''\n",
    "    headers = {'User-Agent': 'Codeup Data Science'} # Some websites don't accept the pyhon-requests default user-agent\n",
    "    response = get(url, headers = headers)\n",
    "    html = response.text\n",
    "    # Make a soup variable holding the response content\n",
    "    soup = BeautifulSoup(html)\n",
    "    title = soup.select('.et_post_meta_wrapper')[0].h1.text\n",
    "    content = soup.select('.entry-content')[0].text\n",
    "    content = content.replace('\\n', '')\n",
    "    \n",
    "    return {\n",
    "        'title': title, \n",
    "         'content': content\n",
    "     }  "
   ]
  },
  {
   "cell_type": "code",
   "execution_count": 17,
   "id": "9ae8f95f",
   "metadata": {},
   "outputs": [
    {
     "data": {
      "text/html": [
       "<div>\n",
       "<style scoped>\n",
       "    .dataframe tbody tr th:only-of-type {\n",
       "        vertical-align: middle;\n",
       "    }\n",
       "\n",
       "    .dataframe tbody tr th {\n",
       "        vertical-align: top;\n",
       "    }\n",
       "\n",
       "    .dataframe thead th {\n",
       "        text-align: right;\n",
       "    }\n",
       "</style>\n",
       "<table border=\"1\" class=\"dataframe\">\n",
       "  <thead>\n",
       "    <tr style=\"text-align: right;\">\n",
       "      <th></th>\n",
       "      <th>title</th>\n",
       "      <th>content</th>\n",
       "    </tr>\n",
       "  </thead>\n",
       "  <tbody>\n",
       "    <tr>\n",
       "      <th>0</th>\n",
       "      <td>Codeup Start Dates for March 2022</td>\n",
       "      <td>As we approach the end of January we wanted to...</td>\n",
       "    </tr>\n",
       "    <tr>\n",
       "      <th>1</th>\n",
       "      <td>VET TEC Funding Now Available For Dallas Veterans</td>\n",
       "      <td>We are so happy to announce that VET TEC benef...</td>\n",
       "    </tr>\n",
       "    <tr>\n",
       "      <th>2</th>\n",
       "      <td>Dallas Campus Re-opens With New Grant Partner</td>\n",
       "      <td>We are happy to announce that our Dallas campu...</td>\n",
       "    </tr>\n",
       "    <tr>\n",
       "      <th>3</th>\n",
       "      <td>Codeup Dallas Open House</td>\n",
       "      <td>Come join us for the re-opening of our Dallas ...</td>\n",
       "    </tr>\n",
       "    <tr>\n",
       "      <th>4</th>\n",
       "      <td>Codeup’s Placement Team Continues Setting Records</td>\n",
       "      <td>Our Placement Team is simply defined as a grou...</td>\n",
       "    </tr>\n",
       "  </tbody>\n",
       "</table>\n",
       "</div>"
      ],
      "text/plain": [
       "                                               title  \\\n",
       "0                  Codeup Start Dates for March 2022   \n",
       "1  VET TEC Funding Now Available For Dallas Veterans   \n",
       "2      Dallas Campus Re-opens With New Grant Partner   \n",
       "3                           Codeup Dallas Open House   \n",
       "4  Codeup’s Placement Team Continues Setting Records   \n",
       "\n",
       "                                             content  \n",
       "0  As we approach the end of January we wanted to...  \n",
       "1  We are so happy to announce that VET TEC benef...  \n",
       "2  We are happy to announce that our Dallas campu...  \n",
       "3  Come join us for the re-opening of our Dallas ...  \n",
       "4  Our Placement Team is simply defined as a grou...  "
      ]
     },
     "execution_count": 17,
     "metadata": {},
     "output_type": "execute_result"
    }
   ],
   "source": [
    "# loop through all the articles\n",
    "pd.DataFrame([get_blog_article(url) for url in url_list])"
   ]
  },
  {
   "cell_type": "markdown",
   "id": "346664a8",
   "metadata": {},
   "source": [
    "### Class Solution"
   ]
  },
  {
   "cell_type": "code",
   "execution_count": 109,
   "id": "ea800f38",
   "metadata": {},
   "outputs": [],
   "source": [
    "# Some websites don't accept the pyhon-requests default user-agent\n",
    "headers = {'User-Agent': 'Codeup Data Science'} \n",
    "\n",
    "# defining url\n",
    "url = 'https://codeup.com/blog/'\n",
    "\n",
    "\n",
    "# getting response from server\n",
    "response = get(url, headers = headers)\n",
    "soup = BeautifulSoup(response.text)"
   ]
  },
  {
   "cell_type": "code",
   "execution_count": 111,
   "id": "ed33f047",
   "metadata": {},
   "outputs": [
    {
     "data": {
      "text/plain": [
       "[<a class=\"more-link\" href=\"https://codeup.com/dallas-newsletter/codeup-dallas-open-house/\">read more</a>,\n",
       " <a class=\"more-link\" href=\"https://codeup.com/codeup-news/codeups-placement-team-continues-setting-records/\">read more</a>,\n",
       " <a class=\"more-link\" href=\"https://codeup.com/it-training/it-certifications-101/\">read more</a>,\n",
       " <a class=\"more-link\" href=\"https://codeup.com/cybersecurity/a-rise-in-cyber-attacks-means-opportunities-for-veterans-in-san-antonio/\">read more</a>,\n",
       " <a class=\"more-link\" href=\"https://codeup.com/codeup-news/use-your-gi-bill-benefits-to-land-a-job-in-tech/\">read more</a>,\n",
       " <a class=\"more-link\" href=\"https://codeup.com/tips-for-prospective-students/which-program-is-right-for-me-cyber-security-or-systems-engineering/\">read more</a>,\n",
       " <a class=\"more-link\" href=\"https://codeup.com/it-training/what-the-heck-is-system-engineering/\">read more</a>,\n",
       " <a class=\"more-link\" href=\"https://codeup.com/alumni-stories/from-speech-pathology-to-business-intelligence/\">read more</a>,\n",
       " <a class=\"more-link\" href=\"https://codeup.com/behind-the-billboards/boris-behind-the-billboards/\">read more</a>,\n",
       " <a class=\"more-link\" href=\"https://codeup.com/codeup-news/is-codeup-the-best-bootcamp-in-san-antonio-or-the-world/\">read more</a>,\n",
       " <a class=\"more-link\" href=\"https://codeup.com/codeup-news/codeup-launches-first-podcast-hire-tech/\">read more</a>,\n",
       " <a class=\"more-link\" href=\"https://codeup.com/tips-for-prospective-students/why-should-i-become-a-system-administrator/\">read more</a>,\n",
       " <a class=\"more-link\" href=\"https://codeup.com/codeup-news/codeup-candidate-for-accreditation/\">read more</a>,\n",
       " <a class=\"more-link\" href=\"https://codeup.com/codeup-news/codeup-takes-over-more-of-the-historic-vogue-building/\">read more</a>,\n",
       " <a class=\"more-link\" href=\"https://codeup.com/codeup-news/inclusion-at-codeup-during-pride-month-and-always/\">read more</a>]"
      ]
     },
     "execution_count": 111,
     "metadata": {},
     "output_type": "execute_result"
    }
   ],
   "source": [
    "# Selecting all the link with class name  = 'more-link'\n",
    "soup.select('.more-link')"
   ]
  },
  {
   "cell_type": "code",
   "execution_count": 112,
   "id": "3eab6df2",
   "metadata": {},
   "outputs": [
    {
     "data": {
      "text/plain": [
       "['https://codeup.com/dallas-newsletter/codeup-dallas-open-house/',\n",
       " 'https://codeup.com/codeup-news/codeups-placement-team-continues-setting-records/',\n",
       " 'https://codeup.com/it-training/it-certifications-101/',\n",
       " 'https://codeup.com/cybersecurity/a-rise-in-cyber-attacks-means-opportunities-for-veterans-in-san-antonio/',\n",
       " 'https://codeup.com/codeup-news/use-your-gi-bill-benefits-to-land-a-job-in-tech/',\n",
       " 'https://codeup.com/tips-for-prospective-students/which-program-is-right-for-me-cyber-security-or-systems-engineering/',\n",
       " 'https://codeup.com/it-training/what-the-heck-is-system-engineering/',\n",
       " 'https://codeup.com/alumni-stories/from-speech-pathology-to-business-intelligence/',\n",
       " 'https://codeup.com/behind-the-billboards/boris-behind-the-billboards/',\n",
       " 'https://codeup.com/codeup-news/is-codeup-the-best-bootcamp-in-san-antonio-or-the-world/',\n",
       " 'https://codeup.com/codeup-news/codeup-launches-first-podcast-hire-tech/',\n",
       " 'https://codeup.com/tips-for-prospective-students/why-should-i-become-a-system-administrator/',\n",
       " 'https://codeup.com/codeup-news/codeup-candidate-for-accreditation/',\n",
       " 'https://codeup.com/codeup-news/codeup-takes-over-more-of-the-historic-vogue-building/',\n",
       " 'https://codeup.com/codeup-news/inclusion-at-codeup-during-pride-month-and-always/']"
      ]
     },
     "execution_count": 112,
     "metadata": {},
     "output_type": "execute_result"
    }
   ],
   "source": [
    "links = [link['href'] for link in soup.select('.more-link')]\n",
    "links"
   ]
  },
  {
   "cell_type": "markdown",
   "id": "7ca87e28",
   "metadata": {},
   "source": [
    "###### Now going to the single link or blogpost and scrape title, published date and content"
   ]
  },
  {
   "cell_type": "code",
   "execution_count": 116,
   "id": "39f554a1",
   "metadata": {},
   "outputs": [],
   "source": [
    "url = links[0]\n",
    "response = get(url, headers = headers)\n",
    "soup = BeautifulSoup(response.text)\n",
    "# soup"
   ]
  },
  {
   "cell_type": "code",
   "execution_count": 122,
   "id": "dbc55cfb",
   "metadata": {},
   "outputs": [
    {
     "data": {
      "text/plain": [
       "'Come join us for the re-opening of our Dallas Campus with some drinks and snacks at Codeup! Curious about what our campus looks like? Click here to register for freeAbout this eventCome join us for the re-opening of our Dallas Campus with some drinks and snacks at Codeup!Curious about what our campus looks like? Interested in our Web Development Career Accelerator? Keen to chat with an instructor or financial aid rep?At our Open House, we are here to answer all your questions!Meet a Codeup instructor, who can help explain what’s taught in our classes and answer questions.Understand how to join one of our upcoming cohort ( Dec. 6th).Don’t miss this opportunity to learn more about how you can start the new year transitioning into a new, exciting career in tech. We’re here to answer any questions you may have about Codeup and your future.Take the first step of your new career today and create your tomorrow!'"
      ]
     },
     "execution_count": 122,
     "metadata": {},
     "output_type": "execute_result"
    }
   ],
   "source": [
    "# content\n",
    "content = soup.select('.entry-content')[0].text.strip()\n",
    "content = content.replace('\\n', '')\n",
    "content                          "
   ]
  },
  {
   "cell_type": "code",
   "execution_count": 123,
   "id": "cfcb775d",
   "metadata": {},
   "outputs": [
    {
     "data": {
      "text/plain": [
       "'Codeup Dallas Open House'"
      ]
     },
     "execution_count": 123,
     "metadata": {},
     "output_type": "execute_result"
    }
   ],
   "source": [
    "# title\n",
    "title = soup.select('.et_post_meta_wrapper')[0].h1.text\n",
    "title"
   ]
  },
  {
   "cell_type": "code",
   "execution_count": 127,
   "id": "a60ec380",
   "metadata": {},
   "outputs": [
    {
     "data": {
      "text/plain": [
       "'Nov 30, 2021'"
      ]
     },
     "execution_count": 127,
     "metadata": {},
     "output_type": "execute_result"
    }
   ],
   "source": [
    "# published date\n",
    "published = soup.select('.published')[0].text\n",
    "published"
   ]
  },
  {
   "cell_type": "code",
   "execution_count": 132,
   "id": "f2faa4d7",
   "metadata": {},
   "outputs": [],
   "source": [
    "def get_front_page_links():\n",
    "    '''\n",
    "    This function will get us codeup blog landing page and return a list of urls that blog posts on the page.\n",
    "    '''\n",
    "    # Some websites don't accept the pyhon-requests default user-agent\n",
    "    headers = {'User-Agent': 'Codeup Data Science'} \n",
    "\n",
    "    # defining url\n",
    "    url = 'https://codeup.com/blog/'\n",
    "\n",
    "\n",
    "    # getting response from server\n",
    "    response = get(url, headers = headers)\n",
    "    soup = BeautifulSoup(response.text)\n",
    "    \n",
    "    # all links\n",
    "    links = [link['href'] for link in soup.select('.more-link')]\n",
    "    \n",
    "    return links"
   ]
  },
  {
   "cell_type": "code",
   "execution_count": 133,
   "id": "bf042bcc",
   "metadata": {},
   "outputs": [
    {
     "data": {
      "text/plain": [
       "['https://codeup.com/dallas-newsletter/codeup-dallas-open-house/',\n",
       " 'https://codeup.com/codeup-news/codeups-placement-team-continues-setting-records/',\n",
       " 'https://codeup.com/it-training/it-certifications-101/',\n",
       " 'https://codeup.com/cybersecurity/a-rise-in-cyber-attacks-means-opportunities-for-veterans-in-san-antonio/',\n",
       " 'https://codeup.com/codeup-news/use-your-gi-bill-benefits-to-land-a-job-in-tech/',\n",
       " 'https://codeup.com/tips-for-prospective-students/which-program-is-right-for-me-cyber-security-or-systems-engineering/',\n",
       " 'https://codeup.com/it-training/what-the-heck-is-system-engineering/',\n",
       " 'https://codeup.com/alumni-stories/from-speech-pathology-to-business-intelligence/',\n",
       " 'https://codeup.com/behind-the-billboards/boris-behind-the-billboards/',\n",
       " 'https://codeup.com/codeup-news/is-codeup-the-best-bootcamp-in-san-antonio-or-the-world/',\n",
       " 'https://codeup.com/codeup-news/codeup-launches-first-podcast-hire-tech/',\n",
       " 'https://codeup.com/tips-for-prospective-students/why-should-i-become-a-system-administrator/',\n",
       " 'https://codeup.com/codeup-news/codeup-candidate-for-accreditation/',\n",
       " 'https://codeup.com/codeup-news/codeup-takes-over-more-of-the-historic-vogue-building/',\n",
       " 'https://codeup.com/codeup-news/inclusion-at-codeup-during-pride-month-and-always/']"
      ]
     },
     "execution_count": 133,
     "metadata": {},
     "output_type": "execute_result"
    }
   ],
   "source": [
    "get_front_page_links()"
   ]
  },
  {
   "cell_type": "code",
   "execution_count": 138,
   "id": "0b2bd5f5",
   "metadata": {},
   "outputs": [],
   "source": [
    "def parse_codeup_blog_article(url):\n",
    "    \n",
    "    ''' This function pass url and gives title, content, and date published. '''\n",
    "    \n",
    "    # Some websites don't accept the pyhon-requests default user-agent\n",
    "    headers = {'User-Agent': 'Codeup Data Science'} \n",
    "    \n",
    "    response = get(url, headers = headers)\n",
    "    \n",
    "    # converting response to text\n",
    "    html = response.text\n",
    "    \n",
    "    # Make a soup variable holding the response content\n",
    "    soup = BeautifulSoup(html)\n",
    "    \n",
    "    # title\n",
    "    title = soup.select('.et_post_meta_wrapper')[0].h1.text\n",
    "    \n",
    "    \n",
    "    # content\n",
    "    content = soup.select('.entry-content')[0].text.strip()\n",
    "    content = content.replace('\\n', '')\n",
    "    \n",
    "    # published date\n",
    "    published = soup.select('.published')[0].text\n",
    "\n",
    "    \n",
    "    \n",
    "    return {\n",
    "        'title': title, \n",
    "         'content': content,\n",
    "        'date published' : published\n",
    "     }  "
   ]
  },
  {
   "cell_type": "code",
   "execution_count": 139,
   "id": "8ef8c8b4",
   "metadata": {},
   "outputs": [
    {
     "data": {
      "text/plain": [
       "{'title': 'Codeup Dallas Open House',\n",
       " 'content': 'Come join us for the re-opening of our Dallas Campus with some drinks and snacks at Codeup! Curious about what our campus looks like? Click here to register for freeAbout this eventCome join us for the re-opening of our Dallas Campus with some drinks and snacks at Codeup!Curious about what our campus looks like? Interested in our Web Development Career Accelerator? Keen to chat with an instructor or financial aid rep?At our Open House, we are here to answer all your questions!Meet a Codeup instructor, who can help explain what’s taught in our classes and answer questions.Understand how to join one of our upcoming cohort ( Dec. 6th).Don’t miss this opportunity to learn more about how you can start the new year transitioning into a new, exciting career in tech. We’re here to answer any questions you may have about Codeup and your future.Take the first step of your new career today and create your tomorrow!',\n",
       " 'date published': 'Nov 30, 2021'}"
      ]
     },
     "execution_count": 139,
     "metadata": {},
     "output_type": "execute_result"
    }
   ],
   "source": [
    "parse_blog_article(url)"
   ]
  },
  {
   "cell_type": "code",
   "execution_count": 140,
   "id": "5c9e6685",
   "metadata": {},
   "outputs": [],
   "source": [
    "def get_blog_articles():\n",
    "    \"\"\"This function returns a DataFrame with column as title, published and content\"\"\"\n",
    "    links = get_front_page_links()\n",
    "    df = pd.DataFrame([parse_codeup_blog_article(link) for link in links])\n",
    "    return df"
   ]
  },
  {
   "cell_type": "code",
   "execution_count": 141,
   "id": "de67322b",
   "metadata": {},
   "outputs": [
    {
     "data": {
      "text/html": [
       "<div>\n",
       "<style scoped>\n",
       "    .dataframe tbody tr th:only-of-type {\n",
       "        vertical-align: middle;\n",
       "    }\n",
       "\n",
       "    .dataframe tbody tr th {\n",
       "        vertical-align: top;\n",
       "    }\n",
       "\n",
       "    .dataframe thead th {\n",
       "        text-align: right;\n",
       "    }\n",
       "</style>\n",
       "<table border=\"1\" class=\"dataframe\">\n",
       "  <thead>\n",
       "    <tr style=\"text-align: right;\">\n",
       "      <th></th>\n",
       "      <th>title</th>\n",
       "      <th>content</th>\n",
       "      <th>date published</th>\n",
       "    </tr>\n",
       "  </thead>\n",
       "  <tbody>\n",
       "    <tr>\n",
       "      <th>0</th>\n",
       "      <td>Codeup Dallas Open House</td>\n",
       "      <td>Come join us for the re-opening of our Dallas ...</td>\n",
       "      <td>Nov 30, 2021</td>\n",
       "    </tr>\n",
       "    <tr>\n",
       "      <th>1</th>\n",
       "      <td>Codeup’s Placement Team Continues Setting Records</td>\n",
       "      <td>Our Placement Team is simply defined as a grou...</td>\n",
       "      <td>Nov 19, 2021</td>\n",
       "    </tr>\n",
       "    <tr>\n",
       "      <th>2</th>\n",
       "      <td>IT Certifications 101: Why They Matter, and Wh...</td>\n",
       "      <td>AWS, Google, Azure, Red Hat, CompTIA…these are...</td>\n",
       "      <td>Nov 18, 2021</td>\n",
       "    </tr>\n",
       "    <tr>\n",
       "      <th>3</th>\n",
       "      <td>A rise in cyber attacks means opportunities fo...</td>\n",
       "      <td>In the last few months, the US has experienced...</td>\n",
       "      <td>Nov 17, 2021</td>\n",
       "    </tr>\n",
       "    <tr>\n",
       "      <th>4</th>\n",
       "      <td>Use your GI Bill® benefits to Land a Job in Tech</td>\n",
       "      <td>As the end of military service gets closer, ma...</td>\n",
       "      <td>Nov 4, 2021</td>\n",
       "    </tr>\n",
       "    <tr>\n",
       "      <th>5</th>\n",
       "      <td>Which program is right for me: Cyber Security ...</td>\n",
       "      <td>What IT Career should I choose?If you’re think...</td>\n",
       "      <td>Oct 28, 2021</td>\n",
       "    </tr>\n",
       "    <tr>\n",
       "      <th>6</th>\n",
       "      <td>What the Heck is System Engineering?</td>\n",
       "      <td>Codeup offers a 13-week training program: Syst...</td>\n",
       "      <td>Oct 21, 2021</td>\n",
       "    </tr>\n",
       "    <tr>\n",
       "      <th>7</th>\n",
       "      <td>From Speech Pathology to Business Intelligence</td>\n",
       "      <td>By: Alicia GonzalezBefore Codeup, I was a home...</td>\n",
       "      <td>Oct 18, 2021</td>\n",
       "    </tr>\n",
       "    <tr>\n",
       "      <th>8</th>\n",
       "      <td>Boris – Behind the Billboards</td>\n",
       "      <td></td>\n",
       "      <td>Oct 3, 2021</td>\n",
       "    </tr>\n",
       "    <tr>\n",
       "      <th>9</th>\n",
       "      <td>Is Codeup the Best Bootcamp in San Antonio…or ...</td>\n",
       "      <td>Looking for the best data science bootcamp in ...</td>\n",
       "      <td>Sep 16, 2021</td>\n",
       "    </tr>\n",
       "    <tr>\n",
       "      <th>10</th>\n",
       "      <td>Codeup Launches First Podcast: Hire Tech</td>\n",
       "      <td>Any podcast enthusiasts out there? We are plea...</td>\n",
       "      <td>Aug 25, 2021</td>\n",
       "    </tr>\n",
       "    <tr>\n",
       "      <th>11</th>\n",
       "      <td>Why Should I Become a System Administrator?</td>\n",
       "      <td>With so many tech careers in demand, why choos...</td>\n",
       "      <td>Aug 23, 2021</td>\n",
       "    </tr>\n",
       "    <tr>\n",
       "      <th>12</th>\n",
       "      <td>Announcing our Candidacy for Accreditation!</td>\n",
       "      <td>Did you know that even though we’re an indepen...</td>\n",
       "      <td>Jun 30, 2021</td>\n",
       "    </tr>\n",
       "    <tr>\n",
       "      <th>13</th>\n",
       "      <td>Codeup Takes Over More of the Historic Vogue B...</td>\n",
       "      <td>Codeup is moving into another floor of our His...</td>\n",
       "      <td>Jun 21, 2021</td>\n",
       "    </tr>\n",
       "    <tr>\n",
       "      <th>14</th>\n",
       "      <td>Inclusion at Codeup During Pride Month (and Al...</td>\n",
       "      <td>Happy Pride Month! Pride Month is a dedicated ...</td>\n",
       "      <td>Jun 4, 2021</td>\n",
       "    </tr>\n",
       "  </tbody>\n",
       "</table>\n",
       "</div>"
      ],
      "text/plain": [
       "                                                title  \\\n",
       "0                            Codeup Dallas Open House   \n",
       "1   Codeup’s Placement Team Continues Setting Records   \n",
       "2   IT Certifications 101: Why They Matter, and Wh...   \n",
       "3   A rise in cyber attacks means opportunities fo...   \n",
       "4    Use your GI Bill® benefits to Land a Job in Tech   \n",
       "5   Which program is right for me: Cyber Security ...   \n",
       "6                What the Heck is System Engineering?   \n",
       "7      From Speech Pathology to Business Intelligence   \n",
       "8                       Boris – Behind the Billboards   \n",
       "9   Is Codeup the Best Bootcamp in San Antonio…or ...   \n",
       "10           Codeup Launches First Podcast: Hire Tech   \n",
       "11        Why Should I Become a System Administrator?   \n",
       "12        Announcing our Candidacy for Accreditation!   \n",
       "13  Codeup Takes Over More of the Historic Vogue B...   \n",
       "14  Inclusion at Codeup During Pride Month (and Al...   \n",
       "\n",
       "                                              content date published  \n",
       "0   Come join us for the re-opening of our Dallas ...   Nov 30, 2021  \n",
       "1   Our Placement Team is simply defined as a grou...   Nov 19, 2021  \n",
       "2   AWS, Google, Azure, Red Hat, CompTIA…these are...   Nov 18, 2021  \n",
       "3   In the last few months, the US has experienced...   Nov 17, 2021  \n",
       "4   As the end of military service gets closer, ma...    Nov 4, 2021  \n",
       "5   What IT Career should I choose?If you’re think...   Oct 28, 2021  \n",
       "6   Codeup offers a 13-week training program: Syst...   Oct 21, 2021  \n",
       "7   By: Alicia GonzalezBefore Codeup, I was a home...   Oct 18, 2021  \n",
       "8                                                        Oct 3, 2021  \n",
       "9   Looking for the best data science bootcamp in ...   Sep 16, 2021  \n",
       "10  Any podcast enthusiasts out there? We are plea...   Aug 25, 2021  \n",
       "11  With so many tech careers in demand, why choos...   Aug 23, 2021  \n",
       "12  Did you know that even though we’re an indepen...   Jun 30, 2021  \n",
       "13  Codeup is moving into another floor of our His...   Jun 21, 2021  \n",
       "14  Happy Pride Month! Pride Month is a dedicated ...    Jun 4, 2021  "
      ]
     },
     "execution_count": 141,
     "metadata": {},
     "output_type": "execute_result"
    }
   ],
   "source": [
    "get_blog_articles()"
   ]
  },
  {
   "cell_type": "code",
   "execution_count": 144,
   "id": "7760b37e",
   "metadata": {},
   "outputs": [],
   "source": [
    "# Saving the blog as json\n",
    "today = strftime('%Y-%m-%d')\n",
    "get_blog_articles().to_json(f'codeup_blog_{today}.json')"
   ]
  },
  {
   "cell_type": "markdown",
   "id": "432e9748",
   "metadata": {},
   "source": [
    "# 2. News Articles\n",
    "\n",
    "We will now be scraping text data from inshorts, a website that provides a brief overview of many different topics.\n",
    "\n",
    "Write a function that scrapes the news articles for the following topics:\n",
    "\n",
    "- Business\n",
    "- Sports\n",
    "- Technology\n",
    "- Entertainment\n",
    "\n",
    "The end product of this should be a function named get_news_articles that returns a list of dictionaries, where each dictionary has this shape:"
   ]
  },
  {
   "cell_type": "markdown",
   "id": "7642ed9f",
   "metadata": {},
   "source": [
    "### My Struggle"
   ]
  },
  {
   "cell_type": "raw",
   "id": "97043e34",
   "metadata": {},
   "source": [
    "{\n",
    "    'title': 'The article title',\n",
    "    'content': 'The article content',\n",
    "    'category': 'business' # for example\n",
    "}\n"
   ]
  },
  {
   "cell_type": "code",
   "execution_count": null,
   "id": "9b75869d",
   "metadata": {},
   "outputs": [],
   "source": [
    "# assigining values to url\n",
    "url1 = 'https://inshorts.com/en/read/business'\n",
    "url2 = 'https://inshorts.com/en/read/sports'\n",
    "url3 = 'https://inshorts.com/en/read/technology'\n",
    "url4 = 'https://inshorts.com/en/read/entertainment'"
   ]
  },
  {
   "cell_type": "code",
   "execution_count": null,
   "id": "a2d126fb",
   "metadata": {},
   "outputs": [],
   "source": [
    "url_list = [url1, url2, url3, url4]\n"
   ]
  },
  {
   "cell_type": "code",
   "execution_count": 60,
   "id": "3413ff37",
   "metadata": {},
   "outputs": [],
   "source": [
    "# getting url \n",
    "response = get('https://inshorts.com/en/read/business')\n",
    "response = get('https://www.moneycontrol.com/news/business/rbi-cancels-licence-of-maharashtra-based-independence-co-operative-bank-8034241.html/amp?utm_campaign=fullarticle&utm_medium=referral&utm_source=inshorts')\n",
    "\n",
    "# seeing html\n",
    "html = response.text\n",
    "soup = BeautifulSoup(html)\n",
    "# soup"
   ]
  },
  {
   "cell_type": "code",
   "execution_count": 61,
   "id": "16d43017",
   "metadata": {},
   "outputs": [
    {
     "data": {
      "text/plain": [
       "'RBI cancels licence of Maharashtra-based Independence Co-operative Bank'"
      ]
     },
     "execution_count": 61,
     "metadata": {},
     "output_type": "execute_result"
    }
   ],
   "source": [
    "soup.select('.title')[0].text"
   ]
  },
  {
   "cell_type": "code",
   "execution_count": 104,
   "id": "8fceaba1",
   "metadata": {},
   "outputs": [
    {
     "data": {
      "text/plain": [
       "[<div class=\"content\">\n",
       " <div class=\"meta\">\n",
       " <div class=\"article_author\">\n",
       " <a href=\"https://www.moneycontrol.com/author/moneycontrol-news-7285/\" title=\"Moneycontrol News\">Moneycontrol News</a>\n",
       " </div>\n",
       " <div class=\"article_schedule\">  Feb 03, 2022 /  06:02 PM IST  </div>\n",
       " </div>\n",
       " <div class=\"social_icons_mobile_wrapper\">\n",
       " <ul class=\"social_icons_list\">\n",
       " <li> <a class=\"social_icons\" href=\"https://www.facebook.com/sharer/sharer.php?u=https://www.moneycontrol.com/news/business/rbi-cancels-licence-of-maharashtra-based-independence-co-operative-bank-8034241.html?utm_campaign=fullarticle&amp;utm_medium=referral&amp;utm_source=inshorts\" target=\"_blank\" title=\"Facebook\"> <svg height=\"37.672\" viewbox=\"0 0 37.674 37.672\" width=\"37.674\" xmlns=\"http://www.w3.org/2000/svg\">\n",
       " <g transform=\"translate(-63 -90)\">\n",
       " <g transform=\"translate(63 90)\">\n",
       " <path d=\"M17.2,319.3h3.378v-8.462h2.358L23.193,308h-2.61v-1.614c0-.668.134-.932.781-.932h1.829v-2.94h-2.34c-2.514,0-3.648,1.108-3.648,3.227V308H15.447v2.869H17.2Z\" transform=\"translate(-0.483 -292.069)\"></path>\n",
       " <path d=\"M25.259,333.888A18.836,18.836,0,1,1,44.1,315.054,18.857,18.857,0,0,1,25.259,333.888Zm0-36.513a17.677,17.677,0,1,0,17.677,17.678A17.7,17.7,0,0,0,25.259,297.375Z\" transform=\"translate(-6.423 -296.216)\"></path>\n",
       " </g>\n",
       " </g>\n",
       " </svg></a>\n",
       " </li>\n",
       " <li> <a class=\"social_icons\" href=\"https://twitter.com/intent/tweet?text=RBI%20cancels%20licence%20of%20Maharashtra-based%20Independence%20Co-operative%20Bank&amp;url=https://www.moneycontrol.com/news/business/rbi-cancels-licence-of-maharashtra-based-independence-co-operative-bank-8034241.html?utm_campaign=fullarticle&amp;utm_medium=referral&amp;utm_source=inshorts\" target=\"_blank\" title=\"Twitter\"> <svg height=\"37.672\" viewbox=\"0 0 37.674 37.672\" width=\"37.674\" xmlns=\"http://www.w3.org/2000/svg\">\n",
       " <g transform=\"translate(-63 -137.745)\">\n",
       " <g transform=\"translate(63 137.745)\">\n",
       " <g transform=\"translate(0 0)\">\n",
       " <g transform=\"translate(9.354 10.752)\">\n",
       " <path d=\"M38.864,316.485a11.164,11.164,0,0,0,17.173-9.913A7.949,7.949,0,0,0,58,304.541a7.85,7.85,0,0,1-2.254.617,3.926,3.926,0,0,0,1.725-2.171,7.862,7.862,0,0,1-2.491.952,3.928,3.928,0,0,0-6.689,3.58,11.136,11.136,0,0,1-8.089-4.1,3.93,3.93,0,0,0,1.214,5.242,3.938,3.938,0,0,1-1.779-.492,3.93,3.93,0,0,0,3.149,3.9,3.939,3.939,0,0,1-1.771.068,3.927,3.927,0,0,0,3.665,2.726A7.89,7.89,0,0,1,38.864,316.485Z\" transform=\"translate(-38.864 -302.7)\"></path>\n",
       " </g>\n",
       " <path d=\"M52.061,333.888A18.836,18.836,0,1,1,70.9,315.054,18.857,18.857,0,0,1,52.061,333.888Zm0-36.513a17.677,17.677,0,1,0,17.675,17.678A17.7,17.7,0,0,0,52.061,297.375Z\" transform=\"translate(-33.223 -296.216)\"></path>\n",
       " </g>\n",
       " </g>\n",
       " </g>\n",
       " </svg> </a> </li>\n",
       " <li> <a class=\"social_icons\" href=\"http://www.linkedin.com/shareArticle?mini=true&amp;url=https://www.moneycontrol.com/news/business/rbi-cancels-licence-of-maharashtra-based-independence-co-operative-bank-8034241.html?utm_campaign=fullarticle&amp;utm_medium=referral&amp;utm_source=inshorts\" target=\"_blank\" title=\"LinkedIn\"> <svg height=\"37.672\" viewbox=\"0 0 37.672 37.672\" width=\"37.672\" xmlns=\"http://www.w3.org/2000/svg\">\n",
       " <g transform=\"translate(-63 -185.491)\">\n",
       " <g transform=\"translate(63 185.491)\">\n",
       " <g transform=\"translate(12.273 11.846)\">\n",
       " <path d=\"M82.018,311.908v5.4H78.888V312.27c0-1.264-.451-2.127-1.584-2.127a1.712,1.712,0,0,0-1.605,1.144,2.13,2.13,0,0,0-.1.763V317.3H72.468s.041-8.527,0-9.409H75.6v1.333l-.022.03H75.6v-.03a3.1,3.1,0,0,1,2.819-1.555c2.058,0,3.6,1.345,3.6,4.235ZM69.194,303.36a1.63,1.63,0,1,0-.04,3.25h.02a1.63,1.63,0,1,0,.02-3.25ZM67.611,317.3h3.127V307.9H67.611Z\" transform=\"translate(-67.425 -303.36)\"></path>\n",
       " </g>\n",
       " <path d=\"M78.86,333.888A18.836,18.836,0,1,1,97.7,315.054,18.857,18.857,0,0,1,78.86,333.888Zm0-36.513a17.677,17.677,0,1,0,17.675,17.678A17.7,17.7,0,0,0,78.86,297.375Z\" transform=\"translate(-60.024 -296.216)\"></path>\n",
       " </g>\n",
       " </g>\n",
       " </svg> </a> </li>\n",
       " <li> <a class=\"social_icons\" href=\"https://api.whatsapp.com/send?text=RBI cancels licence of Maharashtra-based Independence Co-operative Bank - https://www.moneycontrol.com/news/business/rbi-cancels-licence-of-maharashtra-based-independence-co-operative-bank-8034241.html?utm_campaign=fullarticle&amp;utm_medium=referral&amp;utm_source=inshorts\" target=\"_blank\" title=\"Whatsapp\"> <svg height=\"37.672\" viewbox=\"0 0 37.674 37.672\" width=\"37.674\" xmlns=\"http://www.w3.org/2000/svg\">\n",
       " <g transform=\"translate(-63 -233.236)\">\n",
       " <g transform=\"translate(63 233.236)\">\n",
       " <g transform=\"translate(10.407 10.175)\">\n",
       " <path class=\"a\" d=\"M110.435,310.585a8.515,8.515,0,0,0-17.014-.156c0,.124-.007.247-.007.371a8.387,8.387,0,0,0,1.219,4.363L93.1,319.7l4.714-1.5a8.524,8.524,0,0,0,12.624-7.4C110.439,310.728,110.439,310.656,110.435,310.585Zm-8.508,7.316a7.126,7.126,0,0,1-3.938-1.176l-2.749.877.894-2.638A7.028,7.028,0,0,1,94.77,310.8a6.788,6.788,0,0,1,.035-.69,7.161,7.161,0,0,1,14.256.134c.015.184.023.368.023.555A7.137,7.137,0,0,1,101.927,317.9Z\" transform=\"translate(-93.1 -302.352)\"></path>\n",
       " <path class=\"a\" d=\"M103.973,310.683c-.212-.1-1.235-.605-1.428-.673s-.33-.1-.469.1-.542.675-.662.809-.244.156-.454.053a5.677,5.677,0,0,1-1.678-1.03,6.19,6.19,0,0,1-1.159-1.429c-.119-.207-.013-.32.091-.423s.207-.244.315-.363c.028-.035.051-.068.075-.1a2.229,2.229,0,0,0,.133-.247.373.373,0,0,0-.017-.361c-.051-.1-.469-1.124-.645-1.539s-.347-.343-.471-.343-.259-.02-.4-.02a.774.774,0,0,0-.559.259,2.323,2.323,0,0,0-.728,1.73,2.594,2.594,0,0,0,.108.706,4.693,4.693,0,0,0,.745,1.434,8.568,8.568,0,0,0,3.562,3.129c2.124.824,2.124.549,2.507.514a2.085,2.085,0,0,0,1.406-.985,1.72,1.72,0,0,0,.124-.985C104.32,310.839,104.179,310.788,103.973,310.683Z\" transform=\"translate(-91.244 -300.53)\"></path>\n",
       " </g>\n",
       " <path d=\"M105.662,333.888A18.836,18.836,0,1,1,124.5,315.054,18.857,18.857,0,0,1,105.662,333.888Zm0-36.513a17.677,17.677,0,1,0,17.674,17.678A17.7,17.7,0,0,0,105.662,297.375Z\" transform=\"translate(-86.824 -296.216)\"></path>\n",
       " </g>\n",
       " </g>\n",
       " </svg> </a> </li>\n",
       " <li> <a class=\"social_icons\" href=\"https://t.me/moneycontrolcom?url=https://www.moneycontrol.com/news/business/rbi-cancels-licence-of-maharashtra-based-independence-co-operative-bank-8034241.html?utm_campaign=fullarticle&amp;utm_medium=referral&amp;utm_source=inshorts&amp;text=RBI%20cancels%20licence%20of%20Maharashtra-based%20Independence%20Co-operative%20Bank\" target=\"_blank\" title=\"Telegram\"> <svg height=\"37.672\" viewbox=\"0 0 37.672 37.672\" width=\"37.672\" xmlns=\"http://www.w3.org/2000/svg\">\n",
       " <g transform=\"translate(-63 -280.981)\">\n",
       " <g transform=\"translate(63 280.981)\">\n",
       " <path d=\"M132.461,333.888A18.836,18.836,0,1,1,151.3,315.054,18.856,18.856,0,0,1,132.461,333.888Zm0-36.513a17.677,17.677,0,1,0,17.675,17.678A17.7,17.7,0,0,0,132.461,297.375Z\" transform=\"translate(-113.625 -296.216)\"></path>\n",
       " <g transform=\"translate(9.614 11.14)\">\n",
       " <g transform=\"translate(0 0)\">\n",
       " <path d=\"M1243.238-32.892a3.3,3.3,0,0,1,.118-.367,1.2,1.2,0,0,1,.57-.566c.245-.126.5-.232.754-.34q1.144-.485,2.29-.966l4.02-1.693,4.146-1.746q1.551-.651,3.1-1.3a1.749,1.749,0,0,1,.749-.15,1.173,1.173,0,0,1,1.087.908,1.9,1.9,0,0,1-.017.784q-.161.816-.321,1.633t-.317,1.627q-.191.982-.384,1.964-.187.953-.373,1.906-.23,1.176-.458,2.352l-.476,2.434c-.03.154-.059.31-.09.464a1.223,1.223,0,0,1-.268.512,1.5,1.5,0,0,1-1.392.557,1.553,1.553,0,0,1-.565-.157,1.4,1.4,0,0,1-.212-.147q-1.464-1.122-2.927-2.246l-.036-.025-.422.383c-.483.44-.958.888-1.451,1.315a.987.987,0,0,1-.886.195,1,1,0,0,1-.676-.583,4.428,4.428,0,0,1-.29-.788q-.46-1.5-.919-2.994c-.05-.161-.1-.321-.148-.483a.1.1,0,0,0-.07-.072q-1.362-.457-2.723-.918a5.508,5.508,0,0,1-.6-.226,1.418,1.418,0,0,1-.684-.639,2.807,2.807,0,0,1-.122-.359c-.005-.016-.009-.032-.014-.048Zm8.93,3.746.059.044,1.636,1.254c.7.534,1.391,1.069,2.091,1.6a.6.6,0,0,0,.223.091.191.191,0,0,0,.212-.156q.226-1.156.453-2.314.334-1.712.668-3.426.327-1.675.656-3.349.3-1.525.6-3.051c.015-.078.026-.155.038-.233l-.018-.013-14.1,5.938.415.141,3.367,1.132a.09.09,0,0,0,.068-.01c.241-.147.482-.3.722-.445l4.125-2.556q1.487-.921,2.975-1.84a.928.928,0,0,1,.253-.091.12.12,0,0,1,.152.057.2.2,0,0,1-.011.23c-.065.072-.129.145-.2.211-.353.331-.709.66-1.064.991l-2.391,2.231q-1.358,1.266-2.715,2.532a.163.163,0,0,0-.048.087c-.064.39-.124.78-.186,1.171q-.121.778-.242,1.556c-.016.1-.031.206-.047.309l.013.005Z\" transform=\"translate(-1243.238 40.022)\"></path>\n",
       " </g>\n",
       " </g>\n",
       " </g>\n",
       " </g>\n",
       " </svg> </a> </li>\n",
       " <li> <a class=\"social_icons\" href=\"mailto:?subject=moneycontrol.com NEWS: RBI%20cancels%20licence%20of%20Maharashtra-based%20Independence%20Co-operative%20Bank&amp;body=RBI%20cancels%20licence%20of%20Maharashtra-based%20Independence%20Co-operative%20Bank%0D%0A%0D%0AFull News Link : https://www.moneycontrol.com/news/business/rbi-cancels-licence-of-maharashtra-based-independence-co-operative-bank-8034241.html?utm_campaign=fullarticle&amp;utm_medium=referral&amp;utm_source=inshorts%0D%0A%0D%0A%0D%0ADownload the moneycontrol App for Free and get real–time stock quotes, Indian and Global market indices, portfolio tracker, LIVE TV and in-depth coverage of financial markets.%0D%0A%0D%0Ahttp://m.moneycontrol.com/mom\" title=\"Email\"> <svg height=\"37.672\" viewbox=\"0 0 37.672 37.672\" width=\"37.672\" xmlns=\"http://www.w3.org/2000/svg\">\n",
       " <g transform=\"translate(-63 -328.727)\">\n",
       " <g transform=\"translate(63 328.727)\">\n",
       " <path d=\"M132.461,333.888A18.836,18.836,0,1,1,151.3,315.054,18.856,18.856,0,0,1,132.461,333.888Zm0-36.513a17.677,17.677,0,1,0,17.675,17.678A17.7,17.7,0,0,0,132.461,297.375Z\" transform=\"translate(-113.625 -296.216)\"></path>\n",
       " <g transform=\"translate(10.44 13.293)\">\n",
       " <path d=\"M9.876,69.955a1.517,1.517,0,0,0,1.51,0h0l6.852-4.568a1.661,1.661,0,0,0-1.568-1.118H4.591a1.662,1.662,0,0,0-1.568,1.118l6.852,4.568Z\" transform=\"translate(-2.932 -64.268)\"></path>\n",
       " <path d=\"M8.954,139.79h0a2.414,2.414,0,0,1-2.51,0h0L0,135.495v7.731a1.661,1.661,0,0,0,1.659,1.659H13.738a1.661,1.661,0,0,0,1.659-1.659v-7.731Z\" transform=\"translate(0 -133.353)\"></path>\n",
       " </g>\n",
       " </g>\n",
       " </g>\n",
       " </svg> </a> </li>\n",
       " </ul>\n",
       " </div>\n",
       " <h2 class=\"subtitle\"> The RBI said the bank does not have adequate capital and earning prospects. </h2>\n",
       " </div>,\n",
       " <div class=\"content\">\n",
       " <p>The Reserve Bank of India (RBI) on February 2, 2022, cancelled the licence of Independence Co-operative Bank Ltd., Maharashtra citing inadequate capital.</p>\n",
       " <p>Consequently, the bank ceases to carry on banking business, with effect from the close of business on February 03, 2022, the RBI said in a release.</p><div class=\"ad-section mid-arti-ad\"><amp-ad data-enable-refresh=\"30\" data-loading-strategy=\"prefer-viewability-over-views\" data-multi-size=\"300x250,336x280,250x250,300x300,300x1\n",
       " \" data-multi-size-validation=\"false\" data-slot=\"/1039154/MC_ENG_AMP/MC_ENG_AMP_NEWS/MC_ENG_AMP_BUSINESS_AS/MC_ENG_AMP_ROS_NWS_BUS_AS_ATF_300\" height=\"300\" json='{\"targeting\":{\"article_id\":8034241,\"section_name\":\"business\",\"meta_keywords\":[\"RBI\",\" co-operative ba\"],\"title_name\":\"RBI cancels licence of Maharashtra-based Independence Co-operative Bank\", \"Content_Type\":\"News\",\"DFP\":\"okay\",\"page_url\":\"https://www.moneycontrol.com/news/business/rbi-cancels-licence-of-maharashtra-based-independence-co-operative-bank-8034241.html\",\"excerpt_description\":\"The RBI said the bank does not have adequate capital and earning prospects.\"}}' rtc-config='{\"vendors\": {\"openwrap\": {\"PROFILE_ID\" : \"2082\",\"PUB_ID\" : \"113941\"}},\"timeoutMillis\": 1000}' type=\"doubleclick\" width=\"375\"></amp-ad></div>\n",
       " <p>The Commissioner for Cooperation and Registrar of Cooperative Societies, Maharashtra has also been requested to issue an order for winding up the bank and appoint a liquidator for the bank, the RBI said.</p>\n",
       " <p>The RBI said the bank does not have adequate capital and earning prospects.</p>\n",
       " <p>The RBI said continuance of the bank is prejudicial to the interests of its depositors and the bank with its present financial position would be unable to pay its present depositors in full.</p><div class=\"ad-section mid-arti-ad\"><amp-fx-flying-carpet height=\"250px\" id=\"ampFxFlyingCarpetId\"><amp-ad data-enable-refresh=\"30\" data-loading-strategy=\"prefer-viewability-over-views\" data-multi-size=\"300x600,160x600,120x600\" data-multi-size-validation=\"false\" data-slot=\"/1039154/MC_ENG_AMP/MC_ENG_AMP_NEWS/MC_ENG_AMP_BUSINESS_AS/MC_ENG_AMP_ROS_NWS_BUS_AS_FLY_300\" height=\"600\" json='{\n",
       "    \"targeting\":{\n",
       "                \"article_id\":8034241,\"section_name\":\"business\",\"meta_keywords\":[\"RBI\",\" co-operative ba\"],\"title_name\":\"RBI cancels licence of Maharashtra-based Independence Co-operative Bank\", \"Content_Type\":\"News\",\"DFP\":\"okay\",\"page_url\":\"https://www.moneycontrol.com/news/business/rbi-cancels-licence-of-maharashtra-based-independence-co-operative-bank-8034241.html\",\"excerpt_description\":\"The RBI said the bank does not have adequate capital and earning prospects.\"}}' layout=\"fixed\" rtc-config='{\n",
       "         \"vendors\": {\n",
       "            \"openwrap\": {\n",
       "              \"PROFILE_ID\" : \"2082\",\n",
       "              \"PUB_ID\" : \"113941\"\n",
       "            }\n",
       "          },\n",
       "          \"timeoutMillis\": 1000\n",
       "      }' type=\"doubleclick\" width=\"300\"></amp-ad></amp-fx-flying-carpet> </div>\n",
       " <p>“Public interest would be adversely affected if the bank is allowed to carry on its banking business any further,” said the RBI.</p><div class=\"related_stories_left_block\">\n",
       " <h2 class=\"section_title\"><label>Related stories</label></h2>\n",
       " <ul class=\"stories_list\"><li><a href=\"https://www.moneycontrol.com/news/business/earnings/future-market-consolidated-december-2021-net-sales-at-rs-22-94-crore-up-31-52-y-o-y-8036861.html\" title=\"Future Market Consolidated December 2021 Net Sales at Rs 22.94 crore, up 31.52% Y-o-Y\"><div class=\"image_block\"><amp-img height=\"73\" src=\"https://images.moneycontrol.com/static-mcnews/2017/04/shutterstock_310523045.jpg?impolicy=website&amp;width=130&amp;height=73\" width=\"130\"></amp-img></div><div class=\"content_block\">Future Market Consolidated December 2021 Net Sales at Rs 22.94 crore, up 31.52% Y-o-Y</div></a></li><li><a href=\"https://www.moneycontrol.com/news/business/earnings/cadila-health-consolidated-december-2021-net-sales-at-rs-3655-00-crore-down-3-7-y-o-y-8036851.html\" title=\"Cadila Health Consolidated December 2021 Net Sales at Rs 3,655.00 crore, down 3.7% Y-o-Y\"><div class=\"image_block\"><amp-img height=\"73\" src=\"https://images.moneycontrol.com/static-mcnews/2017/04/shutterstock_310523045.jpg?impolicy=website&amp;width=130&amp;height=73\" width=\"130\"></amp-img></div><div class=\"content_block\">Cadila Health Consolidated December 2021 Net Sales at Rs 3,655.00 crore, down 3.7% Y-o-Y</div></a></li><li><a href=\"https://www.moneycontrol.com/news/business/earnings/sundaram-consolidated-december-2021-net-sales-at-rs-14-55-crore-up-9-92-y-o-y-8036841.html\" title=\"Sundaram Consolidated December 2021 Net Sales at Rs 14.55 crore, up 9.92% Y-o-Y\"><div class=\"image_block\"><amp-img height=\"73\" src=\"https://images.moneycontrol.com/static-mcnews/2017/04/shutterstock_310523045.jpg?impolicy=website&amp;width=130&amp;height=73\" width=\"130\"></amp-img></div><div class=\"content_block\">Sundaram Consolidated December 2021 Net Sales at Rs 14.55 crore, up 9.92% Y-o-Y</div></a></li> </ul></div>\n",
       " <p>Consequent to the cancellation of its licence, Independence Co-operative Bank is prohibited from conducting the business of ‘banking’ which includes acceptance of deposits and repayment of deposits, the RBI said.</p>\n",
       " <p>Further, on liquidation, every depositor would be entitled to receive deposit insurance claim amount of his/her deposits up to a monetary ceiling of Rupees Five lakh from Deposit Insurance and Credit Guarantee Corporation (DICGC) subject to the provisions of the DICGC Act, 1961, the RBI said.</p><div class=\"ad-section mid-arti-ad\"><amp-ad data-enable-refresh=\"30\" data-loading-strategy=\"prefer-viewability-over-views\" data-multi-size=\"300x250,336x280,250x250,300x300\" data-multi-size-validation=\"false\" data-slot=\"/1039154/MC_ENG_AMP/MC_ENG_AMP_NEWS/MC_ENG_AMP_BUSINESS_AS/MC_ENG_AMP_ROS_NWS_BUS_AS_BTF_300\" height=\"300\" json='{\n",
       "    \"targeting\":{\n",
       "                \"article_id\":8034241,\"section_name\":\"business\",\"meta_keywords\":[\"RBI\",\" co-operative ba\"],\"title_name\":\"RBI cancels licence of Maharashtra-based Independence Co-operative Bank\", \"Content_Type\":\"News\",\"DFP\":\"okay\",\"page_url\":\"https://www.moneycontrol.com/news/business/rbi-cancels-licence-of-maharashtra-based-independence-co-operative-bank-8034241.html\",\"excerpt_description\":\"The RBI said the bank does not have adequate capital and earning prospects.\"}}' rtc-config='{\n",
       "         \"vendors\": {\n",
       "            \"openwrap\": {\n",
       "              \"PROFILE_ID\" : \"2082\",\n",
       "              \"PUB_ID\" : \"113941\"\n",
       "            }\n",
       "          },\n",
       "          \"timeoutMillis\": 1000\n",
       "      }' type=\"doubleclick\" width=\"375\"></amp-ad></div>\n",
       " <p>As per the data submitted by the bank, more than 99% of the depositors are entitled to receive the full amount of their deposits from DICGC, the central bank said.</p>\n",
       " <p>“As of January 27, 2022, DICGC has disbursed Rs 2.36 crore of the total insured deposits under the provisions of Section 18A of the DICGC Act,1961 based on the willingness received from the concerned depositors of the bank,” the RBI said.</p>\n",
       " <div class=\"author_wrapper\">\n",
       " <div class=\"content_block\"><span>Moneycontrol News</span></div>\n",
       " </div>\n",
       " <div class=\"tags_wrapper\"> <div class=\"tags_first_line\"><span>TAGS:</span>\n",
       " <a href=\"https://www.moneycontrol.com/news/tags/rbi.html\" title=\"RBI\">#RBI</a> </div>\n",
       " <div class=\"tags_last_line\">first published: Feb 3, 2022 05:46 pm</div>\n",
       " </div>\n",
       " <amp-embed data-widgetids=\"AMP_1\" height=\"100\" layout=\"responsive\" type=\"outbrain\" width=\"100\"></amp-embed>\n",
       " </div>]"
      ]
     },
     "execution_count": 104,
     "metadata": {},
     "output_type": "execute_result"
    }
   ],
   "source": [
    "soup.select('.content')"
   ]
  },
  {
   "cell_type": "code",
   "execution_count": 105,
   "id": "76334fa1",
   "metadata": {},
   "outputs": [
    {
     "data": {
      "text/plain": [
       "[<p>The Reserve Bank of India (RBI) on February 2, 2022, cancelled the licence of Independence Co-operative Bank Ltd., Maharashtra citing inadequate capital.</p>,\n",
       " <p>Consequently, the bank ceases to carry on banking business, with effect from the close of business on February 03, 2022, the RBI said in a release.</p>,\n",
       " <p>The Commissioner for Cooperation and Registrar of Cooperative Societies, Maharashtra has also been requested to issue an order for winding up the bank and appoint a liquidator for the bank, the RBI said.</p>,\n",
       " <p>The RBI said the bank does not have adequate capital and earning prospects.</p>,\n",
       " <p>The RBI said continuance of the bank is prejudicial to the interests of its depositors and the bank with its present financial position would be unable to pay its present depositors in full.</p>,\n",
       " <p>“Public interest would be adversely affected if the bank is allowed to carry on its banking business any further,” said the RBI.</p>,\n",
       " <p>Consequent to the cancellation of its licence, Independence Co-operative Bank is prohibited from conducting the business of ‘banking’ which includes acceptance of deposits and repayment of deposits, the RBI said.</p>,\n",
       " <p>Further, on liquidation, every depositor would be entitled to receive deposit insurance claim amount of his/her deposits up to a monetary ceiling of Rupees Five lakh from Deposit Insurance and Credit Guarantee Corporation (DICGC) subject to the provisions of the DICGC Act, 1961, the RBI said.</p>,\n",
       " <p>As per the data submitted by the bank, more than 99% of the depositors are entitled to receive the full amount of their deposits from DICGC, the central bank said.</p>,\n",
       " <p>“As of January 27, 2022, DICGC has disbursed Rs 2.36 crore of the total insured deposits under the provisions of Section 18A of the DICGC Act,1961 based on the willingness received from the concerned depositors of the bank,” the RBI said.</p>]"
      ]
     },
     "execution_count": 105,
     "metadata": {},
     "output_type": "execute_result"
    }
   ],
   "source": [
    "soup.find_all('p')"
   ]
  },
  {
   "cell_type": "code",
   "execution_count": 94,
   "id": "a0cac3d8",
   "metadata": {},
   "outputs": [],
   "source": [
    "new_list = soup.find_all('p')"
   ]
  },
  {
   "cell_type": "code",
   "execution_count": 100,
   "id": "60c7d509",
   "metadata": {},
   "outputs": [
    {
     "name": "stdout",
     "output_type": "stream",
     "text": [
      "The Reserve Bank of India (RBI) on February 2, 2022, cancelled the licence of Independence Co-operative Bank Ltd., Maharashtra citing inadequate capital.\n",
      "Consequently, the bank ceases to carry on banking business, with effect from the close of business on February 03, 2022, the RBI said in a release.\n",
      "The Commissioner for Cooperation and Registrar of Cooperative Societies, Maharashtra has also been requested to issue an order for winding up the bank and appoint a liquidator for the bank, the RBI said.\n",
      "The RBI said the bank does not have adequate capital and earning prospects.\n",
      "The RBI said continuance of the bank is prejudicial to the interests of its depositors and the bank with its present financial position would be unable to pay its present depositors in full.\n",
      "“Public interest would be adversely affected if the bank is allowed to carry on its banking business any further,” said the RBI.\n",
      "Consequent to the cancellation of its licence, Independence Co-operative Bank is prohibited from conducting the business of ‘banking’ which includes acceptance of deposits and repayment of deposits, the RBI said.\n",
      "Further, on liquidation, every depositor would be entitled to receive deposit insurance claim amount of his/her deposits up to a monetary ceiling of Rupees Five lakh from Deposit Insurance and Credit Guarantee Corporation (DICGC) subject to the provisions of the DICGC Act, 1961, the RBI said.\n",
      "As per the data submitted by the bank, more than 99% of the depositors are entitled to receive the full amount of their deposits from DICGC, the central bank said.\n",
      "“As of January 27, 2022, DICGC has disbursed Rs 2.36 crore of the total insured deposits under the provisions of Section 18A of the DICGC Act,1961 based on the willingness received from the concerned depositors of the bank,” the RBI said.\n"
     ]
    }
   ],
   "source": [
    "for item in new_list:\n",
    "    print(item.text)"
   ]
  },
  {
   "cell_type": "code",
   "execution_count": 48,
   "id": "1e791ce7",
   "metadata": {},
   "outputs": [],
   "source": [
    "# getting url \n",
    "response = get('https://inshorts.com/en/read/sports')\n",
    "response = get('https://www.sportskeeda.com/amp/cricket/ind-vs-wi-2022-mayank-agarwal-added-india-s-odi-squad-west-indies-series-covid-19-cases-hit-camp?utm_campaign=fullarticle&utm_medium=referral&utm_source=inshorts')\n",
    "\n",
    "# seeing html\n",
    "html = response.text\n",
    "soup = BeautifulSoup(html)\n",
    "# soup"
   ]
  },
  {
   "cell_type": "code",
   "execution_count": 50,
   "id": "f40a025e",
   "metadata": {},
   "outputs": [
    {
     "data": {
      "text/plain": [
       "\"Mayank Agarwal added to India's ODI squad for West Indies series after COVID-19 outbreak\""
      ]
     },
     "execution_count": 50,
     "metadata": {},
     "output_type": "execute_result"
    }
   ],
   "source": [
    "soup.h1.text"
   ]
  },
  {
   "cell_type": "code",
   "execution_count": 51,
   "id": "844838b0",
   "metadata": {},
   "outputs": [],
   "source": [
    "# getting url \n",
    "response = get('https://inshorts.com/en/read/technology')\n",
    "response = get('https://www.bloombergquint.com/business/facebook-shares-plunge-as-users-stall-forecast-falls-short?utm_campaign=fullarticle&utm_medium=referral&utm_source=inshorts')\n",
    "\n",
    "# seeing html\n",
    "html = response.text\n",
    "soup = BeautifulSoup(html)\n",
    "# soup"
   ]
  },
  {
   "cell_type": "code",
   "execution_count": 53,
   "id": "60d41bbb",
   "metadata": {},
   "outputs": [
    {
     "data": {
      "text/plain": [
       "'Meta Faces Historic Stock Rout After Facebook Growth Stalled'"
      ]
     },
     "execution_count": 53,
     "metadata": {},
     "output_type": "execute_result"
    }
   ],
   "source": [
    "soup.h1.text"
   ]
  },
  {
   "cell_type": "code",
   "execution_count": 54,
   "id": "96822beb",
   "metadata": {},
   "outputs": [],
   "source": [
    "# getting url \n",
    "response = get('https://inshorts.com/en/read/entertainment')\n",
    "response = get('https://www.hindustantimes.com/entertainment/bollywood/kangana-ranaut-lashes-out-at-journalist-for-question-on-deepika-padukone-i-can-t-promote-her-film-here-sit-down-101643903253574-amp.html?utm_campaign=fullarticle&utm_medium=referral&utm_source=inshorts')\n",
    "\n",
    "# seeing html\n",
    "html = response.text\n",
    "soup = BeautifulSoup(html)\n",
    "# soup"
   ]
  },
  {
   "cell_type": "code",
   "execution_count": 59,
   "id": "5258640e",
   "metadata": {},
   "outputs": [
    {
     "data": {
      "text/plain": [
       "' Access Denied '"
      ]
     },
     "execution_count": 59,
     "metadata": {},
     "output_type": "execute_result"
    }
   ],
   "source": [
    "soup.h1.text"
   ]
  },
  {
   "cell_type": "markdown",
   "id": "15f8c223",
   "metadata": {},
   "source": [
    "### Class Solution"
   ]
  },
  {
   "cell_type": "code",
   "execution_count": 152,
   "id": "62200078",
   "metadata": {},
   "outputs": [],
   "source": [
    "url = 'https://inshorts.com/en/read/business'\n",
    "\n",
    "# Some websites don't accept the pyhon-requests default user-agent\n",
    "headers = {'User-Agent': 'Codeup Data Science'}\n",
    "\n",
    "response = get(url, headers = headers)\n",
    "\n",
    "# creating object soup from BeautifulSoup\n",
    "soup = BeautifulSoup(response.text)"
   ]
  },
  {
   "cell_type": "code",
   "execution_count": 158,
   "id": "46f8baf3",
   "metadata": {},
   "outputs": [
    {
     "data": {
      "text/plain": [
       "25"
      ]
     },
     "execution_count": 158,
     "metadata": {},
     "output_type": "execute_result"
    }
   ],
   "source": [
    "# identify class to select all the news card\n",
    "cards = soup.select('.news-card')\n",
    "len(cards)"
   ]
  },
  {
   "cell_type": "code",
   "execution_count": 165,
   "id": "a5549947",
   "metadata": {},
   "outputs": [],
   "source": [
    "# card\n",
    "card = cards[0]\n",
    "# cards[0]"
   ]
  },
  {
   "cell_type": "code",
   "execution_count": 166,
   "id": "821a9ad4",
   "metadata": {},
   "outputs": [
    {
     "data": {
      "text/plain": [
       "'RBI cancels licence of Maha-based Independence Co-operative Bank'"
      ]
     },
     "execution_count": 166,
     "metadata": {},
     "output_type": "execute_result"
    }
   ],
   "source": [
    "# headline\n",
    "headline = card.find('span', itemprop = 'headline').text\n",
    "headline"
   ]
  },
  {
   "cell_type": "code",
   "execution_count": 167,
   "id": "f88782e2",
   "metadata": {},
   "outputs": [
    {
     "data": {
      "text/plain": [
       "'Shalini Ojha'"
      ]
     },
     "execution_count": 167,
     "metadata": {},
     "output_type": "execute_result"
    }
   ],
   "source": [
    "#author\n",
    "card.find('span', class_ = 'author').text"
   ]
  },
  {
   "cell_type": "code",
   "execution_count": 169,
   "id": "34fea168",
   "metadata": {},
   "outputs": [
    {
     "data": {
      "text/plain": [
       "\"RBI has cancelled licence of Maharashtra-based Independence Co-operative Bank, citing inadequate capital. It will cease to carry on banking operations from the close of business on February 3. In the present situation, the bank won't be able to pay its depositors in full, RBI said. It added that the bank didn't comply with multiple sections of Banking Regulation Act, 1949. \""
      ]
     },
     "execution_count": 169,
     "metadata": {},
     "output_type": "execute_result"
    }
   ],
   "source": [
    "# content\n",
    "card.find('div', itemprop = 'articleBody').text"
   ]
  },
  {
   "cell_type": "code",
   "execution_count": 171,
   "id": "9fab23f8",
   "metadata": {},
   "outputs": [
    {
     "data": {
      "text/plain": [
       "'03 Feb 2022,Thursday'"
      ]
     },
     "execution_count": 171,
     "metadata": {},
     "output_type": "execute_result"
    }
   ],
   "source": [
    "# date\n",
    "card.find('span', clas = 'date').text"
   ]
  },
  {
   "cell_type": "code",
   "execution_count": 175,
   "id": "3f23f2ac",
   "metadata": {},
   "outputs": [],
   "source": [
    "def parse_news_card(card):\n",
    "    'Given a news card object, returns a dictionary of the relevant information.'\n",
    "    card_title = card.select_one('.news-card-title')\n",
    "    output = {}\n",
    "    output['title'] = card.find('span', itemprop = 'headline').text\n",
    "    output['author'] = card.find('span', class_ = 'author').text\n",
    "    output['content'] = card.find('div', itemprop = 'articleBody').text\n",
    "    output['date'] = card.find('span', clas ='date').text\n",
    "    return output\n",
    "\n",
    "\n",
    "def parse_inshorts_page(url):\n",
    "    '''Given a url, returns a dataframe where each row is a news article from the url.\n",
    "    Infers the category from the last section of the url.'''\n",
    "    category = url.split('/')[-1]\n",
    "    response = requests.get(url, headers={'user-agent': 'Codeup DS'})\n",
    "    soup = BeautifulSoup(response.text)\n",
    "    cards = soup.select('.news-card')\n",
    "    df = pd.DataFrame([parse_news_card(card) for card in cards])\n",
    "    df['category'] = category\n",
    "    return df\n",
    "\n",
    "def get_inshorts_articles():\n",
    "    '''\n",
    "    Returns a dataframe of news articles from the business, sports, technology, and entertainment sections of\n",
    "    inshorts.\n",
    "    '''\n",
    "    url = 'https://inshorts.com/en/read/'\n",
    "    categories = ['business', 'sports', 'technology', 'entertainment']\n",
    "    df = pd.DataFrame()\n",
    "    for cat in categories:\n",
    "        df = pd.concat([df, pd.DataFrame(parse_inshorts_page(url + cat))])\n",
    "    df = df.reset_index(drop=True)\n",
    "    return df"
   ]
  },
  {
   "cell_type": "code",
   "execution_count": 176,
   "id": "e9ab2d16",
   "metadata": {},
   "outputs": [
    {
     "data": {
      "text/html": [
       "<div>\n",
       "<style scoped>\n",
       "    .dataframe tbody tr th:only-of-type {\n",
       "        vertical-align: middle;\n",
       "    }\n",
       "\n",
       "    .dataframe tbody tr th {\n",
       "        vertical-align: top;\n",
       "    }\n",
       "\n",
       "    .dataframe thead th {\n",
       "        text-align: right;\n",
       "    }\n",
       "</style>\n",
       "<table border=\"1\" class=\"dataframe\">\n",
       "  <thead>\n",
       "    <tr style=\"text-align: right;\">\n",
       "      <th></th>\n",
       "      <th>title</th>\n",
       "      <th>author</th>\n",
       "      <th>content</th>\n",
       "      <th>date</th>\n",
       "      <th>category</th>\n",
       "    </tr>\n",
       "  </thead>\n",
       "  <tbody>\n",
       "    <tr>\n",
       "      <th>0</th>\n",
       "      <td>RBI cancels licence of Maha-based Independence...</td>\n",
       "      <td>Shalini Ojha</td>\n",
       "      <td>RBI has cancelled licence of Maharashtra-based...</td>\n",
       "      <td>03 Feb 2022,Thursday</td>\n",
       "      <td>business</td>\n",
       "    </tr>\n",
       "    <tr>\n",
       "      <th>1</th>\n",
       "      <td>Boost to EVs a big step: Windmill Capital</td>\n",
       "      <td>Roshan Gupta</td>\n",
       "      <td>Increased use of EVs in public transport, spec...</td>\n",
       "      <td>03 Feb 2022,Thursday</td>\n",
       "      <td>business</td>\n",
       "    </tr>\n",
       "    <tr>\n",
       "      <th>2</th>\n",
       "      <td>Facebook parent Meta's $230-billion wipeout bi...</td>\n",
       "      <td>Pragya Swastik</td>\n",
       "      <td>Facebook's parent Meta's shares plunged 27% an...</td>\n",
       "      <td>03 Feb 2022,Thursday</td>\n",
       "      <td>business</td>\n",
       "    </tr>\n",
       "    <tr>\n",
       "      <th>3</th>\n",
       "      <td>Tesla co-worker used N-word, threw a hot tool ...</td>\n",
       "      <td>Kiran Khatri</td>\n",
       "      <td>A former Tesla worker has filed a lawsuit agai...</td>\n",
       "      <td>03 Feb 2022,Thursday</td>\n",
       "      <td>business</td>\n",
       "    </tr>\n",
       "    <tr>\n",
       "      <th>4</th>\n",
       "      <td>Mark Zuckerberg loses $31 bn in one of the big...</td>\n",
       "      <td>Pragya Swastik</td>\n",
       "      <td>Meta CEO Mark Zuckerberg's wealth dropped by $...</td>\n",
       "      <td>03 Feb 2022,Thursday</td>\n",
       "      <td>business</td>\n",
       "    </tr>\n",
       "    <tr>\n",
       "      <th>...</th>\n",
       "      <td>...</td>\n",
       "      <td>...</td>\n",
       "      <td>...</td>\n",
       "      <td>...</td>\n",
       "      <td>...</td>\n",
       "    </tr>\n",
       "    <tr>\n",
       "      <th>95</th>\n",
       "      <td>Greatest blessing: Riteish wishes Genelia on 1...</td>\n",
       "      <td>Mahima Kharbanda</td>\n",
       "      <td>Actor Riteish Deshmukh on Thursday marked his ...</td>\n",
       "      <td>03 Feb 2022,Thursday</td>\n",
       "      <td>entertainment</td>\n",
       "    </tr>\n",
       "    <tr>\n",
       "      <th>96</th>\n",
       "      <td>Light candle, pray for me; let's heal together...</td>\n",
       "      <td>Ria Kapoor</td>\n",
       "      <td>Singer Tom Parker who was reportedly diagnosed...</td>\n",
       "      <td>03 Feb 2022,Thursday</td>\n",
       "      <td>entertainment</td>\n",
       "    </tr>\n",
       "    <tr>\n",
       "      <th>97</th>\n",
       "      <td>I don't care about all that: Jim Sarbh on soci...</td>\n",
       "      <td>Kriti Kambiri</td>\n",
       "      <td>Actor Jim Sarbh, on being asked about craving ...</td>\n",
       "      <td>03 Feb 2022,Thursday</td>\n",
       "      <td>entertainment</td>\n",
       "    </tr>\n",
       "    <tr>\n",
       "      <th>98</th>\n",
       "      <td>Troll asks Sara 'Why are your shayris bad?', s...</td>\n",
       "      <td>Mahima Kharbanda</td>\n",
       "      <td>Taking to Instagram, actress Sara Ali Khan sha...</td>\n",
       "      <td>03 Feb 2022,Thursday</td>\n",
       "      <td>entertainment</td>\n",
       "    </tr>\n",
       "    <tr>\n",
       "      <th>99</th>\n",
       "      <td>Court directs Honey Singh to give voice sample...</td>\n",
       "      <td>Kriti Kambiri</td>\n",
       "      <td>Rapper Yo Yo Honey Singh has been directed by ...</td>\n",
       "      <td>03 Feb 2022,Thursday</td>\n",
       "      <td>entertainment</td>\n",
       "    </tr>\n",
       "  </tbody>\n",
       "</table>\n",
       "<p>100 rows × 5 columns</p>\n",
       "</div>"
      ],
      "text/plain": [
       "                                                title            author  \\\n",
       "0   RBI cancels licence of Maha-based Independence...      Shalini Ojha   \n",
       "1           Boost to EVs a big step: Windmill Capital      Roshan Gupta   \n",
       "2   Facebook parent Meta's $230-billion wipeout bi...    Pragya Swastik   \n",
       "3   Tesla co-worker used N-word, threw a hot tool ...      Kiran Khatri   \n",
       "4   Mark Zuckerberg loses $31 bn in one of the big...    Pragya Swastik   \n",
       "..                                                ...               ...   \n",
       "95  Greatest blessing: Riteish wishes Genelia on 1...  Mahima Kharbanda   \n",
       "96  Light candle, pray for me; let's heal together...        Ria Kapoor   \n",
       "97  I don't care about all that: Jim Sarbh on soci...     Kriti Kambiri   \n",
       "98  Troll asks Sara 'Why are your shayris bad?', s...  Mahima Kharbanda   \n",
       "99  Court directs Honey Singh to give voice sample...     Kriti Kambiri   \n",
       "\n",
       "                                              content                  date  \\\n",
       "0   RBI has cancelled licence of Maharashtra-based...  03 Feb 2022,Thursday   \n",
       "1   Increased use of EVs in public transport, spec...  03 Feb 2022,Thursday   \n",
       "2   Facebook's parent Meta's shares plunged 27% an...  03 Feb 2022,Thursday   \n",
       "3   A former Tesla worker has filed a lawsuit agai...  03 Feb 2022,Thursday   \n",
       "4   Meta CEO Mark Zuckerberg's wealth dropped by $...  03 Feb 2022,Thursday   \n",
       "..                                                ...                   ...   \n",
       "95  Actor Riteish Deshmukh on Thursday marked his ...  03 Feb 2022,Thursday   \n",
       "96  Singer Tom Parker who was reportedly diagnosed...  03 Feb 2022,Thursday   \n",
       "97  Actor Jim Sarbh, on being asked about craving ...  03 Feb 2022,Thursday   \n",
       "98  Taking to Instagram, actress Sara Ali Khan sha...  03 Feb 2022,Thursday   \n",
       "99  Rapper Yo Yo Honey Singh has been directed by ...  03 Feb 2022,Thursday   \n",
       "\n",
       "         category  \n",
       "0        business  \n",
       "1        business  \n",
       "2        business  \n",
       "3        business  \n",
       "4        business  \n",
       "..            ...  \n",
       "95  entertainment  \n",
       "96  entertainment  \n",
       "97  entertainment  \n",
       "98  entertainment  \n",
       "99  entertainment  \n",
       "\n",
       "[100 rows x 5 columns]"
      ]
     },
     "execution_count": 176,
     "metadata": {},
     "output_type": "execute_result"
    }
   ],
   "source": [
    "get_inshorts_articles()"
   ]
  },
  {
   "cell_type": "code",
   "execution_count": 177,
   "id": "2d871df0",
   "metadata": {},
   "outputs": [],
   "source": [
    "# save the DataFrame as json\n",
    "today = strftime('%Y-%m-%d')\n",
    "get_inshorts_articles().to_json(f'inshorts - {today}.json')"
   ]
  },
  {
   "cell_type": "code",
   "execution_count": null,
   "id": "c6148997",
   "metadata": {},
   "outputs": [],
   "source": []
  }
 ],
 "metadata": {
  "kernelspec": {
   "display_name": "Python 3 (ipykernel)",
   "language": "python",
   "name": "python3"
  },
  "language_info": {
   "codemirror_mode": {
    "name": "ipython",
    "version": 3
   },
   "file_extension": ".py",
   "mimetype": "text/x-python",
   "name": "python",
   "nbconvert_exporter": "python",
   "pygments_lexer": "ipython3",
   "version": "3.8.8"
  }
 },
 "nbformat": 4,
 "nbformat_minor": 5
}
